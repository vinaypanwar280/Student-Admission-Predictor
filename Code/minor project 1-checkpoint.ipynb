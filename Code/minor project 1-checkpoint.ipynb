{
 "cells": [
  {
   "cell_type": "code",
   "execution_count": 1,
   "id": "91798b12",
   "metadata": {},
   "outputs": [],
   "source": [
    "import pandas as pd "
   ]
  },
  {
   "cell_type": "code",
   "execution_count": 2,
   "id": "6729c1eb",
   "metadata": {},
   "outputs": [
    {
     "data": {
      "text/html": [
       "<div>\n",
       "<style scoped>\n",
       "    .dataframe tbody tr th:only-of-type {\n",
       "        vertical-align: middle;\n",
       "    }\n",
       "\n",
       "    .dataframe tbody tr th {\n",
       "        vertical-align: top;\n",
       "    }\n",
       "\n",
       "    .dataframe thead th {\n",
       "        text-align: right;\n",
       "    }\n",
       "</style>\n",
       "<table border=\"1\" class=\"dataframe\">\n",
       "  <thead>\n",
       "    <tr style=\"text-align: right;\">\n",
       "      <th></th>\n",
       "      <th>name</th>\n",
       "      <th>university_board</th>\n",
       "      <th>stream</th>\n",
       "      <th>percentage_10th</th>\n",
       "      <th>percentage_12th</th>\n",
       "      <th>competetive_exam_marks</th>\n",
       "      <th>admitted</th>\n",
       "      <th>Branch</th>\n",
       "    </tr>\n",
       "  </thead>\n",
       "  <tbody>\n",
       "    <tr>\n",
       "      <th>0</th>\n",
       "      <td>vinay panwar</td>\n",
       "      <td>STATE BOARD</td>\n",
       "      <td>PCM</td>\n",
       "      <td>83.00</td>\n",
       "      <td>86.00</td>\n",
       "      <td>0.0</td>\n",
       "      <td>1</td>\n",
       "      <td>CSE</td>\n",
       "    </tr>\n",
       "    <tr>\n",
       "      <th>1</th>\n",
       "      <td>Shivani Gupta</td>\n",
       "      <td>C.B.S.E BOARD</td>\n",
       "      <td>PCM</td>\n",
       "      <td>92.00</td>\n",
       "      <td>80.00</td>\n",
       "      <td>0.0</td>\n",
       "      <td>1</td>\n",
       "      <td>EC</td>\n",
       "    </tr>\n",
       "    <tr>\n",
       "      <th>2</th>\n",
       "      <td>Utkarsh kalawat</td>\n",
       "      <td>STATE BOARD</td>\n",
       "      <td>PCM</td>\n",
       "      <td>54.00</td>\n",
       "      <td>62.00</td>\n",
       "      <td>45.0</td>\n",
       "      <td>1</td>\n",
       "      <td>IT</td>\n",
       "    </tr>\n",
       "    <tr>\n",
       "      <th>3</th>\n",
       "      <td>Rupali wanare</td>\n",
       "      <td>STATE BOARD</td>\n",
       "      <td>PCM</td>\n",
       "      <td>63.33</td>\n",
       "      <td>65.33</td>\n",
       "      <td>63.0</td>\n",
       "      <td>1</td>\n",
       "      <td>ME</td>\n",
       "    </tr>\n",
       "    <tr>\n",
       "      <th>4</th>\n",
       "      <td>Monika rathod</td>\n",
       "      <td>STATE BOARD</td>\n",
       "      <td>PCM</td>\n",
       "      <td>74.00</td>\n",
       "      <td>71.00</td>\n",
       "      <td>55.0</td>\n",
       "      <td>0</td>\n",
       "      <td>CSE</td>\n",
       "    </tr>\n",
       "  </tbody>\n",
       "</table>\n",
       "</div>"
      ],
      "text/plain": [
       "               name university_board stream  percentage_10th  percentage_12th  \\\n",
       "0      vinay panwar      STATE BOARD    PCM            83.00            86.00   \n",
       "1     Shivani Gupta    C.B.S.E BOARD    PCM            92.00            80.00   \n",
       "2  Utkarsh kalawat       STATE BOARD    PCM            54.00            62.00   \n",
       "3     Rupali wanare      STATE BOARD    PCM            63.33            65.33   \n",
       "4     Monika rathod      STATE BOARD    PCM            74.00            71.00   \n",
       "\n",
       "   competetive_exam_marks  admitted Branch  \n",
       "0                     0.0         1    CSE  \n",
       "1                     0.0         1     EC  \n",
       "2                    45.0         1     IT  \n",
       "3                    63.0         1     ME  \n",
       "4                    55.0         0    CSE  "
      ]
     },
     "execution_count": 2,
     "metadata": {},
     "output_type": "execute_result"
    }
   ],
   "source": [
    "df = pd.read_csv(r'H:\\Projects\\minor project I\\Dataset\\modified_dataset.csv')\n",
    "df.head()"
   ]
  },
  {
   "cell_type": "code",
   "execution_count": 3,
   "id": "f8af0801",
   "metadata": {},
   "outputs": [
    {
     "data": {
      "text/html": [
       "<div>\n",
       "<style scoped>\n",
       "    .dataframe tbody tr th:only-of-type {\n",
       "        vertical-align: middle;\n",
       "    }\n",
       "\n",
       "    .dataframe tbody tr th {\n",
       "        vertical-align: top;\n",
       "    }\n",
       "\n",
       "    .dataframe thead th {\n",
       "        text-align: right;\n",
       "    }\n",
       "</style>\n",
       "<table border=\"1\" class=\"dataframe\">\n",
       "  <thead>\n",
       "    <tr style=\"text-align: right;\">\n",
       "      <th></th>\n",
       "      <th>name</th>\n",
       "      <th>university_board</th>\n",
       "      <th>stream</th>\n",
       "      <th>percentage_10th</th>\n",
       "      <th>percentage_12th</th>\n",
       "      <th>competetive_exam_marks</th>\n",
       "      <th>admitted</th>\n",
       "      <th>Branch</th>\n",
       "    </tr>\n",
       "  </thead>\n",
       "  <tbody>\n",
       "    <tr>\n",
       "      <th>0</th>\n",
       "      <td>vinay panwar</td>\n",
       "      <td>STATE BOARD</td>\n",
       "      <td>PCM</td>\n",
       "      <td>83.00</td>\n",
       "      <td>86.00</td>\n",
       "      <td>0.0</td>\n",
       "      <td>1</td>\n",
       "      <td>CSE</td>\n",
       "    </tr>\n",
       "    <tr>\n",
       "      <th>1</th>\n",
       "      <td>Shivani Gupta</td>\n",
       "      <td>C.B.S.E BOARD</td>\n",
       "      <td>PCM</td>\n",
       "      <td>92.00</td>\n",
       "      <td>80.00</td>\n",
       "      <td>0.0</td>\n",
       "      <td>1</td>\n",
       "      <td>EC</td>\n",
       "    </tr>\n",
       "    <tr>\n",
       "      <th>2</th>\n",
       "      <td>Utkarsh kalawat</td>\n",
       "      <td>STATE BOARD</td>\n",
       "      <td>PCM</td>\n",
       "      <td>54.00</td>\n",
       "      <td>62.00</td>\n",
       "      <td>45.0</td>\n",
       "      <td>1</td>\n",
       "      <td>IT</td>\n",
       "    </tr>\n",
       "    <tr>\n",
       "      <th>3</th>\n",
       "      <td>Rupali wanare</td>\n",
       "      <td>STATE BOARD</td>\n",
       "      <td>PCM</td>\n",
       "      <td>63.33</td>\n",
       "      <td>65.33</td>\n",
       "      <td>63.0</td>\n",
       "      <td>1</td>\n",
       "      <td>ME</td>\n",
       "    </tr>\n",
       "    <tr>\n",
       "      <th>4</th>\n",
       "      <td>Monika rathod</td>\n",
       "      <td>STATE BOARD</td>\n",
       "      <td>PCM</td>\n",
       "      <td>74.00</td>\n",
       "      <td>71.00</td>\n",
       "      <td>55.0</td>\n",
       "      <td>0</td>\n",
       "      <td>CSE</td>\n",
       "    </tr>\n",
       "  </tbody>\n",
       "</table>\n",
       "</div>"
      ],
      "text/plain": [
       "               name university_board stream  percentage_10th  percentage_12th  \\\n",
       "0      vinay panwar      STATE BOARD    PCM            83.00            86.00   \n",
       "1     Shivani Gupta    C.B.S.E BOARD    PCM            92.00            80.00   \n",
       "2  Utkarsh kalawat       STATE BOARD    PCM            54.00            62.00   \n",
       "3     Rupali wanare      STATE BOARD    PCM            63.33            65.33   \n",
       "4     Monika rathod      STATE BOARD    PCM            74.00            71.00   \n",
       "\n",
       "   competetive_exam_marks  admitted Branch  \n",
       "0                     0.0         1    CSE  \n",
       "1                     0.0         1     EC  \n",
       "2                    45.0         1     IT  \n",
       "3                    63.0         1     ME  \n",
       "4                    55.0         0    CSE  "
      ]
     },
     "execution_count": 3,
     "metadata": {},
     "output_type": "execute_result"
    }
   ],
   "source": [
    "df['competetive_exam_marks'].fillna('0',inplace=True )\n",
    "df.head()"
   ]
  },
  {
   "cell_type": "code",
   "execution_count": 4,
   "id": "da8949f4",
   "metadata": {},
   "outputs": [
    {
     "name": "stdout",
     "output_type": "stream",
     "text": [
      "  university_board stream  percentage_10th  percentage_12th  \\\n",
      "0      STATE BOARD    PCM            83.00            86.00   \n",
      "1    C.B.S.E BOARD    PCM            92.00            80.00   \n",
      "2      STATE BOARD    PCM            54.00            62.00   \n",
      "3      STATE BOARD    PCM            63.33            65.33   \n",
      "4      STATE BOARD    PCM            74.00            71.00   \n",
      "\n",
      "   competetive_exam_marks Branch  \n",
      "0                     0.0    CSE  \n",
      "1                     0.0     EC  \n",
      "2                    45.0     IT  \n",
      "3                    63.0     ME  \n",
      "4                    55.0    CSE  \n",
      "0    1\n",
      "1    1\n",
      "2    1\n",
      "3    1\n",
      "4    0\n",
      "Name: admitted, dtype: int64\n"
     ]
    }
   ],
   "source": [
    "#inputs = df['university_board','STREAM :','percentage_10th','percentage_12th','competetive_exam_marks']\n",
    "inputs =  df.drop(['name','admitted'],axis = 'columns')\n",
    "\n",
    "target =df.admitted\n",
    "print(inputs.head())\n",
    "print(target.head())"
   ]
  },
  {
   "cell_type": "code",
   "execution_count": 5,
   "id": "134b3444",
   "metadata": {},
   "outputs": [],
   "source": [
    "from sklearn.preprocessing import LabelEncoder"
   ]
  },
  {
   "cell_type": "code",
   "execution_count": 6,
   "id": "e5787d6c",
   "metadata": {},
   "outputs": [],
   "source": [
    "n_lable = LabelEncoder()"
   ]
  },
  {
   "cell_type": "code",
   "execution_count": 7,
   "id": "aa6fa9a2",
   "metadata": {},
   "outputs": [
    {
     "data": {
      "text/html": [
       "<div>\n",
       "<style scoped>\n",
       "    .dataframe tbody tr th:only-of-type {\n",
       "        vertical-align: middle;\n",
       "    }\n",
       "\n",
       "    .dataframe tbody tr th {\n",
       "        vertical-align: top;\n",
       "    }\n",
       "\n",
       "    .dataframe thead th {\n",
       "        text-align: right;\n",
       "    }\n",
       "</style>\n",
       "<table border=\"1\" class=\"dataframe\">\n",
       "  <thead>\n",
       "    <tr style=\"text-align: right;\">\n",
       "      <th></th>\n",
       "      <th>university_board</th>\n",
       "      <th>stream</th>\n",
       "      <th>percentage_10th</th>\n",
       "      <th>percentage_12th</th>\n",
       "      <th>competetive_exam_marks</th>\n",
       "      <th>Branch</th>\n",
       "      <th>n_board</th>\n",
       "      <th>n_stream</th>\n",
       "      <th>n_branch</th>\n",
       "    </tr>\n",
       "  </thead>\n",
       "  <tbody>\n",
       "    <tr>\n",
       "      <th>0</th>\n",
       "      <td>STATE BOARD</td>\n",
       "      <td>PCM</td>\n",
       "      <td>83.00</td>\n",
       "      <td>86.00</td>\n",
       "      <td>0.0</td>\n",
       "      <td>CSE</td>\n",
       "      <td>3</td>\n",
       "      <td>1</td>\n",
       "      <td>0</td>\n",
       "    </tr>\n",
       "    <tr>\n",
       "      <th>1</th>\n",
       "      <td>C.B.S.E BOARD</td>\n",
       "      <td>PCM</td>\n",
       "      <td>92.00</td>\n",
       "      <td>80.00</td>\n",
       "      <td>0.0</td>\n",
       "      <td>EC</td>\n",
       "      <td>0</td>\n",
       "      <td>1</td>\n",
       "      <td>1</td>\n",
       "    </tr>\n",
       "    <tr>\n",
       "      <th>2</th>\n",
       "      <td>STATE BOARD</td>\n",
       "      <td>PCM</td>\n",
       "      <td>54.00</td>\n",
       "      <td>62.00</td>\n",
       "      <td>45.0</td>\n",
       "      <td>IT</td>\n",
       "      <td>3</td>\n",
       "      <td>1</td>\n",
       "      <td>2</td>\n",
       "    </tr>\n",
       "    <tr>\n",
       "      <th>3</th>\n",
       "      <td>STATE BOARD</td>\n",
       "      <td>PCM</td>\n",
       "      <td>63.33</td>\n",
       "      <td>65.33</td>\n",
       "      <td>63.0</td>\n",
       "      <td>ME</td>\n",
       "      <td>3</td>\n",
       "      <td>1</td>\n",
       "      <td>3</td>\n",
       "    </tr>\n",
       "    <tr>\n",
       "      <th>4</th>\n",
       "      <td>STATE BOARD</td>\n",
       "      <td>PCM</td>\n",
       "      <td>74.00</td>\n",
       "      <td>71.00</td>\n",
       "      <td>55.0</td>\n",
       "      <td>CSE</td>\n",
       "      <td>3</td>\n",
       "      <td>1</td>\n",
       "      <td>0</td>\n",
       "    </tr>\n",
       "  </tbody>\n",
       "</table>\n",
       "</div>"
      ],
      "text/plain": [
       "  university_board stream  percentage_10th  percentage_12th  \\\n",
       "0      STATE BOARD    PCM            83.00            86.00   \n",
       "1    C.B.S.E BOARD    PCM            92.00            80.00   \n",
       "2      STATE BOARD    PCM            54.00            62.00   \n",
       "3      STATE BOARD    PCM            63.33            65.33   \n",
       "4      STATE BOARD    PCM            74.00            71.00   \n",
       "\n",
       "   competetive_exam_marks Branch  n_board   n_stream  n_branch  \n",
       "0                     0.0    CSE         3         1         0  \n",
       "1                     0.0     EC         0         1         1  \n",
       "2                    45.0     IT         3         1         2  \n",
       "3                    63.0     ME         3         1         3  \n",
       "4                    55.0    CSE         3         1         0  "
      ]
     },
     "execution_count": 7,
     "metadata": {},
     "output_type": "execute_result"
    }
   ],
   "source": [
    "inputs['n_board '] = n_lable.fit_transform(df['university_board'])\n",
    "inputs['n_stream'] = n_lable.fit_transform(df['stream'])\n",
    "inputs['n_branch'] = n_lable.fit_transform(df['Branch'])\n",
    "inputs.head()"
   ]
  },
  {
   "cell_type": "code",
   "execution_count": 8,
   "id": "63370e05",
   "metadata": {},
   "outputs": [
    {
     "data": {
      "text/html": [
       "<div>\n",
       "<style scoped>\n",
       "    .dataframe tbody tr th:only-of-type {\n",
       "        vertical-align: middle;\n",
       "    }\n",
       "\n",
       "    .dataframe tbody tr th {\n",
       "        vertical-align: top;\n",
       "    }\n",
       "\n",
       "    .dataframe thead th {\n",
       "        text-align: right;\n",
       "    }\n",
       "</style>\n",
       "<table border=\"1\" class=\"dataframe\">\n",
       "  <thead>\n",
       "    <tr style=\"text-align: right;\">\n",
       "      <th></th>\n",
       "      <th>percentage_10th</th>\n",
       "      <th>percentage_12th</th>\n",
       "      <th>competetive_exam_marks</th>\n",
       "      <th>n_board</th>\n",
       "      <th>n_stream</th>\n",
       "      <th>n_branch</th>\n",
       "    </tr>\n",
       "  </thead>\n",
       "  <tbody>\n",
       "    <tr>\n",
       "      <th>0</th>\n",
       "      <td>83.00</td>\n",
       "      <td>86.00</td>\n",
       "      <td>0.0</td>\n",
       "      <td>3</td>\n",
       "      <td>1</td>\n",
       "      <td>0</td>\n",
       "    </tr>\n",
       "    <tr>\n",
       "      <th>1</th>\n",
       "      <td>92.00</td>\n",
       "      <td>80.00</td>\n",
       "      <td>0.0</td>\n",
       "      <td>0</td>\n",
       "      <td>1</td>\n",
       "      <td>1</td>\n",
       "    </tr>\n",
       "    <tr>\n",
       "      <th>2</th>\n",
       "      <td>54.00</td>\n",
       "      <td>62.00</td>\n",
       "      <td>45.0</td>\n",
       "      <td>3</td>\n",
       "      <td>1</td>\n",
       "      <td>2</td>\n",
       "    </tr>\n",
       "    <tr>\n",
       "      <th>3</th>\n",
       "      <td>63.33</td>\n",
       "      <td>65.33</td>\n",
       "      <td>63.0</td>\n",
       "      <td>3</td>\n",
       "      <td>1</td>\n",
       "      <td>3</td>\n",
       "    </tr>\n",
       "    <tr>\n",
       "      <th>4</th>\n",
       "      <td>74.00</td>\n",
       "      <td>71.00</td>\n",
       "      <td>55.0</td>\n",
       "      <td>3</td>\n",
       "      <td>1</td>\n",
       "      <td>0</td>\n",
       "    </tr>\n",
       "  </tbody>\n",
       "</table>\n",
       "</div>"
      ],
      "text/plain": [
       "   percentage_10th  percentage_12th  competetive_exam_marks  n_board   \\\n",
       "0            83.00            86.00                     0.0         3   \n",
       "1            92.00            80.00                     0.0         0   \n",
       "2            54.00            62.00                    45.0         3   \n",
       "3            63.33            65.33                    63.0         3   \n",
       "4            74.00            71.00                    55.0         3   \n",
       "\n",
       "   n_stream  n_branch  \n",
       "0         1         0  \n",
       "1         1         1  \n",
       "2         1         2  \n",
       "3         1         3  \n",
       "4         1         0  "
      ]
     },
     "execution_count": 8,
     "metadata": {},
     "output_type": "execute_result"
    }
   ],
   "source": [
    "new_inputs = inputs.drop(['university_board','stream','Branch'],axis = 'columns')\n",
    "new_input = new_inputs.copy()\n",
    "new_input.head()"
   ]
  },
  {
   "cell_type": "code",
   "execution_count": 9,
   "id": "db39e9c7",
   "metadata": {},
   "outputs": [
    {
     "data": {
      "text/html": [
       "<div>\n",
       "<style scoped>\n",
       "    .dataframe tbody tr th:only-of-type {\n",
       "        vertical-align: middle;\n",
       "    }\n",
       "\n",
       "    .dataframe tbody tr th {\n",
       "        vertical-align: top;\n",
       "    }\n",
       "\n",
       "    .dataframe thead th {\n",
       "        text-align: right;\n",
       "    }\n",
       "</style>\n",
       "<table border=\"1\" class=\"dataframe\">\n",
       "  <thead>\n",
       "    <tr style=\"text-align: right;\">\n",
       "      <th></th>\n",
       "      <th>percentage_10th</th>\n",
       "      <th>percentage_12th</th>\n",
       "      <th>competetive_exam_marks</th>\n",
       "      <th>n_board</th>\n",
       "      <th>n_stream</th>\n",
       "      <th>n_branch</th>\n",
       "    </tr>\n",
       "  </thead>\n",
       "  <tbody>\n",
       "    <tr>\n",
       "      <th>count</th>\n",
       "      <td>60.000000</td>\n",
       "      <td>60.000000</td>\n",
       "      <td>60.00000</td>\n",
       "      <td>60.000000</td>\n",
       "      <td>60.000000</td>\n",
       "      <td>60.000000</td>\n",
       "    </tr>\n",
       "    <tr>\n",
       "      <th>mean</th>\n",
       "      <td>78.844333</td>\n",
       "      <td>72.835500</td>\n",
       "      <td>39.68500</td>\n",
       "      <td>2.066667</td>\n",
       "      <td>0.783333</td>\n",
       "      <td>1.383333</td>\n",
       "    </tr>\n",
       "    <tr>\n",
       "      <th>std</th>\n",
       "      <td>10.694204</td>\n",
       "      <td>10.635108</td>\n",
       "      <td>82.58654</td>\n",
       "      <td>1.351291</td>\n",
       "      <td>0.415450</td>\n",
       "      <td>1.222552</td>\n",
       "    </tr>\n",
       "    <tr>\n",
       "      <th>min</th>\n",
       "      <td>52.000000</td>\n",
       "      <td>52.000000</td>\n",
       "      <td>0.00000</td>\n",
       "      <td>0.000000</td>\n",
       "      <td>0.000000</td>\n",
       "      <td>0.000000</td>\n",
       "    </tr>\n",
       "    <tr>\n",
       "      <th>25%</th>\n",
       "      <td>73.000000</td>\n",
       "      <td>63.600000</td>\n",
       "      <td>0.00000</td>\n",
       "      <td>0.000000</td>\n",
       "      <td>1.000000</td>\n",
       "      <td>0.000000</td>\n",
       "    </tr>\n",
       "    <tr>\n",
       "      <th>50%</th>\n",
       "      <td>80.115000</td>\n",
       "      <td>74.400000</td>\n",
       "      <td>0.50000</td>\n",
       "      <td>3.000000</td>\n",
       "      <td>1.000000</td>\n",
       "      <td>1.500000</td>\n",
       "    </tr>\n",
       "    <tr>\n",
       "      <th>75%</th>\n",
       "      <td>89.000000</td>\n",
       "      <td>80.000000</td>\n",
       "      <td>55.25000</td>\n",
       "      <td>3.000000</td>\n",
       "      <td>1.000000</td>\n",
       "      <td>2.250000</td>\n",
       "    </tr>\n",
       "    <tr>\n",
       "      <th>max</th>\n",
       "      <td>95.000000</td>\n",
       "      <td>96.000000</td>\n",
       "      <td>512.00000</td>\n",
       "      <td>3.000000</td>\n",
       "      <td>1.000000</td>\n",
       "      <td>3.000000</td>\n",
       "    </tr>\n",
       "  </tbody>\n",
       "</table>\n",
       "</div>"
      ],
      "text/plain": [
       "       percentage_10th  percentage_12th  competetive_exam_marks   n_board   \\\n",
       "count        60.000000        60.000000                60.00000  60.000000   \n",
       "mean         78.844333        72.835500                39.68500   2.066667   \n",
       "std          10.694204        10.635108                82.58654   1.351291   \n",
       "min          52.000000        52.000000                 0.00000   0.000000   \n",
       "25%          73.000000        63.600000                 0.00000   0.000000   \n",
       "50%          80.115000        74.400000                 0.50000   3.000000   \n",
       "75%          89.000000        80.000000                55.25000   3.000000   \n",
       "max          95.000000        96.000000               512.00000   3.000000   \n",
       "\n",
       "        n_stream   n_branch  \n",
       "count  60.000000  60.000000  \n",
       "mean    0.783333   1.383333  \n",
       "std     0.415450   1.222552  \n",
       "min     0.000000   0.000000  \n",
       "25%     1.000000   0.000000  \n",
       "50%     1.000000   1.500000  \n",
       "75%     1.000000   2.250000  \n",
       "max     1.000000   3.000000  "
      ]
     },
     "execution_count": 9,
     "metadata": {},
     "output_type": "execute_result"
    }
   ],
   "source": [
    "new_inputs.describe()"
   ]
  },
  {
   "cell_type": "code",
   "execution_count": 10,
   "id": "ab049ee0",
   "metadata": {},
   "outputs": [
    {
     "data": {
      "text/html": [
       "<div>\n",
       "<style scoped>\n",
       "    .dataframe tbody tr th:only-of-type {\n",
       "        vertical-align: middle;\n",
       "    }\n",
       "\n",
       "    .dataframe tbody tr th {\n",
       "        vertical-align: top;\n",
       "    }\n",
       "\n",
       "    .dataframe thead th {\n",
       "        text-align: right;\n",
       "    }\n",
       "</style>\n",
       "<table border=\"1\" class=\"dataframe\">\n",
       "  <thead>\n",
       "    <tr style=\"text-align: right;\">\n",
       "      <th></th>\n",
       "      <th>percentage_10th</th>\n",
       "      <th>percentage_12th</th>\n",
       "      <th>competetive_exam_marks</th>\n",
       "      <th>n_board</th>\n",
       "      <th>n_stream</th>\n",
       "      <th>n_branch</th>\n",
       "    </tr>\n",
       "  </thead>\n",
       "  <tbody>\n",
       "    <tr>\n",
       "      <th>0</th>\n",
       "      <td>83.00</td>\n",
       "      <td>86.00</td>\n",
       "      <td>0.0</td>\n",
       "      <td>3</td>\n",
       "      <td>1</td>\n",
       "      <td>0</td>\n",
       "    </tr>\n",
       "    <tr>\n",
       "      <th>1</th>\n",
       "      <td>92.00</td>\n",
       "      <td>80.00</td>\n",
       "      <td>0.0</td>\n",
       "      <td>0</td>\n",
       "      <td>1</td>\n",
       "      <td>1</td>\n",
       "    </tr>\n",
       "    <tr>\n",
       "      <th>2</th>\n",
       "      <td>54.00</td>\n",
       "      <td>62.00</td>\n",
       "      <td>45.0</td>\n",
       "      <td>3</td>\n",
       "      <td>1</td>\n",
       "      <td>2</td>\n",
       "    </tr>\n",
       "    <tr>\n",
       "      <th>3</th>\n",
       "      <td>63.33</td>\n",
       "      <td>65.33</td>\n",
       "      <td>63.0</td>\n",
       "      <td>3</td>\n",
       "      <td>1</td>\n",
       "      <td>3</td>\n",
       "    </tr>\n",
       "    <tr>\n",
       "      <th>4</th>\n",
       "      <td>74.00</td>\n",
       "      <td>71.00</td>\n",
       "      <td>55.0</td>\n",
       "      <td>3</td>\n",
       "      <td>1</td>\n",
       "      <td>0</td>\n",
       "    </tr>\n",
       "  </tbody>\n",
       "</table>\n",
       "</div>"
      ],
      "text/plain": [
       "   percentage_10th  percentage_12th  competetive_exam_marks  n_board   \\\n",
       "0            83.00            86.00                     0.0         3   \n",
       "1            92.00            80.00                     0.0         0   \n",
       "2            54.00            62.00                    45.0         3   \n",
       "3            63.33            65.33                    63.0         3   \n",
       "4            74.00            71.00                    55.0         3   \n",
       "\n",
       "   n_stream  n_branch  \n",
       "0         1         0  \n",
       "1         1         1  \n",
       "2         1         2  \n",
       "3         1         3  \n",
       "4         1         0  "
      ]
     },
     "execution_count": 10,
     "metadata": {},
     "output_type": "execute_result"
    }
   ],
   "source": [
    "new_inputs.head()"
   ]
  },
  {
   "cell_type": "code",
   "execution_count": 17,
   "id": "9414c03c",
   "metadata": {},
   "outputs": [],
   "source": [
    "#from sklearn import tree\n",
    "from sklearn import linear_model\n",
    "from sklearn import tree"
   ]
  },
  {
   "cell_type": "code",
   "execution_count": 18,
   "id": "d96bdbf4",
   "metadata": {},
   "outputs": [],
   "source": [
    "#model = tree.DecisionTreeClassifier()\n",
    "model = linear_model.LogisticRegression()"
   ]
  },
  {
   "cell_type": "code",
   "execution_count": 19,
   "id": "17c370ee",
   "metadata": {},
   "outputs": [],
   "source": [
    "#model decisiontree\n",
    "model1 = tree.DecisionTreeClassifier()"
   ]
  },
  {
   "cell_type": "code",
   "execution_count": 20,
   "id": "81b90585",
   "metadata": {},
   "outputs": [
    {
     "data": {
      "text/plain": [
       "LogisticRegression()"
      ]
     },
     "execution_count": 20,
     "metadata": {},
     "output_type": "execute_result"
    }
   ],
   "source": [
    "#training the model using logistic regression\n",
    "model.fit(new_inputs,target)"
   ]
  },
  {
   "cell_type": "code",
   "execution_count": 13,
   "id": "8a3f0c0b",
   "metadata": {},
   "outputs": [
    {
     "data": {
      "text/plain": [
       "0.7166666666666667"
      ]
     },
     "execution_count": 13,
     "metadata": {},
     "output_type": "execute_result"
    }
   ],
   "source": [
    "#training the model using Logisticregression\n",
    "model.score(new_input,target)"
   ]
  },
  {
   "cell_type": "code",
   "execution_count": 21,
   "id": "97d99d7f",
   "metadata": {},
   "outputs": [
    {
     "data": {
      "text/plain": [
       "DecisionTreeClassifier()"
      ]
     },
     "execution_count": 21,
     "metadata": {},
     "output_type": "execute_result"
    }
   ],
   "source": [
    "#training the model using Decisiontree\n",
    "model1.fit(new_inputs,target)"
   ]
  },
  {
   "cell_type": "code",
   "execution_count": 22,
   "id": "a00ef700",
   "metadata": {},
   "outputs": [
    {
     "data": {
      "text/plain": [
       "1.0"
      ]
     },
     "execution_count": 22,
     "metadata": {},
     "output_type": "execute_result"
    }
   ],
   "source": [
    "#checkin the accuracy of decision tree model\n",
    "model1.score(new_inputs,target)"
   ]
  },
  {
   "cell_type": "code",
   "execution_count": 26,
   "id": "34a01650",
   "metadata": {},
   "outputs": [
    {
     "data": {
      "text/plain": [
       "array([1], dtype=int64)"
      ]
     },
     "execution_count": 26,
     "metadata": {},
     "output_type": "execute_result"
    }
   ],
   "source": [
    "#logistics regression \n",
    "model.predict([[89,87,78,3,1,1]])"
   ]
  },
  {
   "cell_type": "code",
   "execution_count": 29,
   "id": "e88f712d",
   "metadata": {},
   "outputs": [
    {
     "data": {
      "text/plain": [
       "array([1], dtype=int64)"
      ]
     },
     "execution_count": 29,
     "metadata": {},
     "output_type": "execute_result"
    }
   ],
   "source": [
    "#decision tree classifier prediction \n",
    "model1.predict([[89,89,0,3,1,1]])"
   ]
  },
  {
   "cell_type": "code",
   "execution_count": 11,
   "id": "ff49e052",
   "metadata": {},
   "outputs": [],
   "source": [
    "import matplotlib.pyplot as plt"
   ]
  },
  {
   "cell_type": "code",
   "execution_count": 51,
   "id": "d7cefa29",
   "metadata": {},
   "outputs": [
    {
     "data": {
      "image/png": "[encoded data removed]",
      "text/plain": [
       "<Figure size 432x288 with 1 Axes>"
      ]
     },
     "metadata": {
      "needs_background": "light"
     },
     "output_type": "display_data"
    }
   ],
   "source": [
    "new_inputs['percentage_10th'].plot()\n",
    "plt.xlabel('total population')\n",
    "plt.ylabel(\"percentage\")\n",
    "plt.show()"
   ]
  },
  {
   "cell_type": "code",
   "execution_count": 52,
   "id": "c75e92fc",
   "metadata": {},
   "outputs": [
    {
     "data": {
      "image/png": "[encoded data removed]",
      "text/plain": [
       "<Figure size 432x288 with 1 Axes>"
      ]
     },
     "metadata": {
      "needs_background": "light"
     },
     "output_type": "display_data"
    }
   ],
   "source": [
    "new_inputs['percentage_12th'].plot()\n",
    "plt.xlabel(\"total number of student\")\n",
    "plt.ylabel(\"12th percentage\")\n",
    "plt.show()"
   ]
  },
  {
   "cell_type": "code",
   "execution_count": 53,
   "id": "6daeaa3e",
   "metadata": {},
   "outputs": [
    {
     "data": {
      "image/png": "[encoded data removed]",
      "text/plain": [
       "<Figure size 432x288 with 1 Axes>"
      ]
     },
     "metadata": {
      "needs_background": "light"
     },
     "output_type": "display_data"
    }
   ],
   "source": [
    "new_inputs[\"competetive_exam_marks\"].plot()\n",
    "plt.xlabel(\"total number of student\")\n",
    "plt.ylabel(\"comepetition examination marks\")\n",
    "plt.show()"
   ]
  },
  {
   "cell_type": "code",
   "execution_count": 54,
   "id": "0920109f",
   "metadata": {},
   "outputs": [
    {
     "data": {
      "image/png": "[encoded data removed]",
      "text/plain": [
       "<Figure size 432x288 with 1 Axes>"
      ]
     },
     "metadata": {
      "needs_background": "light"
     },
     "output_type": "display_data"
    }
   ],
   "source": [
    "plt.plot(new_inputs['percentage_12th'])\n",
    "plt.show()"
   ]
  },
  {
   "cell_type": "code",
   "execution_count": 55,
   "id": "c0fa05e1",
   "metadata": {},
   "outputs": [
    {
     "data": {
      "image/png": "[encoded data removed]",
      "text/plain": [
       "<Figure size 432x288 with 1 Axes>"
      ]
     },
     "metadata": {
      "needs_background": "light"
     },
     "output_type": "display_data"
    }
   ],
   "source": [
    "new_inputs[\"n_branch\"].plot()\n",
    "plt.xlabel(\"total number of student\")\n",
    "plt.ylabel(\"branch\")\n",
    "plt.show()"
   ]
  },
  {
   "cell_type": "code",
   "execution_count": 56,
   "id": "77a7a882",
   "metadata": {},
   "outputs": [
    {
     "data": {
      "image/png": "[encoded data removed]",
      "text/plain": [
       "<Figure size 432x288 with 1 Axes>"
      ]
     },
     "metadata": {
      "needs_background": "light"
     },
     "output_type": "display_data"
    }
   ],
   "source": [
    "plt.hist(new_inputs['percentage_12th'])\n",
    "plt.xlabel(\"marks\")\n",
    "plt.ylabel(\"number of student\")\n",
    "plt.show()"
   ]
  },
  {
   "cell_type": "code",
   "execution_count": 57,
   "id": "f0b8f206",
   "metadata": {},
   "outputs": [
    {
     "data": {
      "image/png": "[encoded data removed]",
      "text/plain": [
       "<Figure size 432x288 with 1 Axes>"
      ]
     },
     "metadata": {
      "needs_background": "light"
     },
     "output_type": "display_data"
    }
   ],
   "source": [
    "plt.hist(new_inputs['percentage_10th'])\n",
    "plt.xlabel(\"marks\")\n",
    "plt.ylabel(\"number of student\")\n",
    "plt.show()"
   ]
  },
  {
   "cell_type": "code",
   "execution_count": 58,
   "id": "1ece2030",
   "metadata": {},
   "outputs": [
    {
     "data": {
      "image/png": "[encoded data removed]",
      "text/plain": [
       "<Figure size 432x288 with 1 Axes>"
      ]
     },
     "metadata": {
      "needs_background": "light"
     },
     "output_type": "display_data"
    }
   ],
   "source": [
    "plt.hist(new_inputs['competetive_exam_marks'])\n",
    "plt.xlabel(\"marks\")\n",
    "plt.ylabel(\"number of student\")\n",
    "plt.show()"
   ]
  },
  {
   "cell_type": "code",
   "execution_count": 59,
   "id": "4b6a23db",
   "metadata": {},
   "outputs": [
    {
     "data": {
      "image/png": "[encoded data removed]",
      "text/plain": [
       "<Figure size 432x288 with 1 Axes>"
      ]
     },
     "metadata": {
      "needs_background": "light"
     },
     "output_type": "display_data"
    }
   ],
   "source": [
    "plt.bar(new_inputs['percentage_10th'],60,color='cyan')\n",
    "plt.xlabel(\"marks\")\n",
    "plt.ylabel(\"number of student\")\n",
    "plt.show()"
   ]
  },
  {
   "cell_type": "code",
   "execution_count": 60,
   "id": "2935050e",
   "metadata": {},
   "outputs": [
    {
     "data": {
      "image/png": "[encoded data removed]",
      "text/plain": [
       "<Figure size 432x288 with 1 Axes>"
      ]
     },
     "metadata": {
      "needs_background": "light"
     },
     "output_type": "display_data"
    }
   ],
   "source": [
    "plt.bar(new_inputs['percentage_12th'],60,color='red')\n",
    "plt.xlabel(\"marks\")\n",
    "plt.ylabel(\"number of student\")\n",
    "plt.show()"
   ]
  },
  {
   "cell_type": "code",
   "execution_count": 61,
   "id": "1b4e7714",
   "metadata": {},
   "outputs": [
    {
     "data": {
      "image/png": "[encoded data removed]",
      "text/plain": [
       "<Figure size 432x288 with 1 Axes>"
      ]
     },
     "metadata": {
      "needs_background": "light"
     },
     "output_type": "display_data"
    }
   ],
   "source": [
    "plt.bar(new_inputs['competetive_exam_marks'],60,color='black')\n",
    "plt.xlabel(\"marks\")\n",
    "plt.ylabel(\"number of student\")\n",
    "plt.show()"
   ]
  },
  {
   "cell_type": "code",
   "execution_count": 62,
   "id": "6fac8f76",
   "metadata": {},
   "outputs": [
    {
     "data": {
      "image/png": "[encoded data removed]",
      "text/plain": [
       "<Figure size 432x288 with 1 Axes>"
      ]
     },
     "metadata": {
      "needs_background": "light"
     },
     "output_type": "display_data"
    }
   ],
   "source": [
    "plt.bar(new_inputs['n_branch'],60,color='cyan')\n",
    "plt.xlabel(\"branch\")\n",
    "plt.ylabel(\"number of student\")\n",
    "plt.show()"
   ]
  },
  {
   "cell_type": "code",
   "execution_count": 73,
   "id": "8a7dda4a",
   "metadata": {},
   "outputs": [
    {
     "data": {
      "image/png": "[encoded data removed]",
      "text/plain": [
       "<Figure size 432x288 with 1 Axes>"
      ]
     },
     "metadata": {
      "needs_background": "light"
     },
     "output_type": "display_data"
    }
   ],
   "source": [
    "plt.bar(df[\"stream\"],60,color='cyan')\n",
    "plt.xlabel(\"stream\")\n",
    "plt.ylabel(\"number of student\")\n",
    "plt.show()"
   ]
  },
  {
   "cell_type": "code",
   "execution_count": 77,
   "id": "dd36b3f5",
   "metadata": {},
   "outputs": [
    {
     "data": {
      "image/png": "[encoded data removed]",
      "text/plain": [
       "<Figure size 432x288 with 1 Axes>"
      ]
     },
     "metadata": {
      "needs_background": "light"
     },
     "output_type": "display_data"
    }
   ],
   "source": [
    "plt.bar(df[\"Branch\"],60,color='cyan')\n",
    "plt.xlabel(\"branch\")\n",
    "plt.ylabel(\"number of student\")\n",
    "plt.show()"
   ]
  },
  {
   "cell_type": "code",
   "execution_count": 82,
   "id": "7760e281",
   "metadata": {},
   "outputs": [
    {
     "data": {
      "image/png": "[encoded data removed]",
      "text/plain": [
       "<Figure size 432x288 with 1 Axes>"
      ]
     },
     "metadata": {
      "needs_background": "light"
     },
     "output_type": "display_data"
    }
   ],
   "source": [
    "plt.bar(df[\"university_board\"],60,color='black')\n",
    "plt.xlabel(\"board\")\n",
    "plt.ylabel(\"number of student\")\n",
    "plt.show()"
   ]
  },
  {
   "cell_type": "code",
   "execution_count": 83,
   "id": "1d99ae00",
   "metadata": {},
   "outputs": [
    {
     "data": {
      "image/png": "[encoded data removed]",
      "text/plain": [
       "<Figure size 432x288 with 1 Axes>"
      ]
     },
     "metadata": {
      "needs_background": "light"
     },
     "output_type": "display_data"
    }
   ],
   "source": [
    "plt.plot(df['university_board'])\n",
    "plt.show()"
   ]
  },
  {
   "cell_type": "code",
   "execution_count": 38,
   "id": "a49c2cff",
   "metadata": {},
   "outputs": [
    {
     "data": {
      "image/png": "[encoded data removed]",
      "text/plain": [
       "<Figure size 432x288 with 1 Axes>"
      ]
     },
     "metadata": {
      "needs_background": "light"
     },
     "output_type": "display_data"
    }
   ],
   "source": [
    "plt.boxplot(new_inputs)\n",
    "plt.show()"
   ]
  },
  {
   "cell_type": "code",
   "execution_count": 90,
   "id": "40b828ef",
   "metadata": {},
   "outputs": [
    {
     "data": {
      "text/plain": [
       "0     -80.0\n",
       "1     -80.0\n",
       "2     -35.0\n",
       "3     -17.0\n",
       "4     -25.0\n",
       "5     -80.0\n",
       "6     -40.0\n",
       "7     -80.0\n",
       "8      -3.2\n",
       "9     -51.0\n",
       "10    -80.0\n",
       "11    -80.0\n",
       "12    -80.0\n",
       "13    -80.0\n",
       "14    -24.0\n",
       "15    -59.0\n",
       "16    -52.0\n",
       "17    -80.0\n",
       "18    -15.0\n",
       "19    -79.0\n",
       "20    -80.0\n",
       "21    -80.0\n",
       "22    -80.0\n",
       "23    -80.0\n",
       "24    -31.0\n",
       "25    -80.0\n",
       "26    -13.0\n",
       "27    -13.0\n",
       "28    -80.0\n",
       "29    -80.0\n",
       "30    -44.0\n",
       "31    -44.0\n",
       "32     38.0\n",
       "33    432.0\n",
       "34    -80.0\n",
       "35    -13.0\n",
       "36    -44.0\n",
       "37    -44.0\n",
       "38    -72.0\n",
       "39    -50.5\n",
       "40    -80.0\n",
       "41    -80.0\n",
       "42    276.0\n",
       "43    -35.0\n",
       "44    -80.0\n",
       "45    -80.0\n",
       "46    -80.0\n",
       "47    -80.0\n",
       "48    -21.6\n",
       "49    -21.6\n",
       "50    -80.0\n",
       "51    -80.0\n",
       "52    -80.0\n",
       "53    -80.0\n",
       "54     10.0\n",
       "55    -80.0\n",
       "56      2.0\n",
       "57    -80.0\n",
       "58     70.0\n",
       "59    -80.0\n",
       "Name: competetive_exam_marks, dtype: float64"
      ]
     },
     "execution_count": 90,
     "metadata": {},
     "output_type": "execute_result"
    }
   ],
   "source": [
    "new_inputs.describe()\n",
    "new_inputs['competetive_exam_marks'].sub(80)"
   ]
  }
 ],
 "metadata": {
  "kernelspec": {
   "display_name": "Python 3 (ipykernel)",
   "language": "python",
   "name": "python3"
  },
  "language_info": {
   "codemirror_mode": {
    "name": "ipython",
    "version": 3
   },
   "file_extension": ".py",
   "mimetype": "text/x-python",
   "name": "python",
   "nbconvert_exporter": "python",
   "pygments_lexer": "ipython3",
   "version": "3.9.12"
  }
 },
 "nbformat": 4,
 "nbformat_minor": 5
}
